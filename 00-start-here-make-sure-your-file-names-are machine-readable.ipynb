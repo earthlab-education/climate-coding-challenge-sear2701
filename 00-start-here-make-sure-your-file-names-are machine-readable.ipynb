{
  "cells": [
    {
      "cell_type": "markdown",
      "id": "886d9743-4b6f-4d08-8c20-125bb2746918",
      "metadata": {},
      "source": [
        "# Climate coding challenge, Part 0\n",
        "\n",
        "## Human-readable and Machine-readable\n",
        "\n",
        "When writing open, reproducible scientific workflows, it is always\n",
        "important to make sure that:\n",
        "\n",
        "1.  all collaborators can understand what’s going on\n",
        "2.  any commands you give to a computer are clear and unambiguous\n",
        "\n",
        "We call these two (sometimes competing) goals **human-readability** and\n",
        "**machine-readability**.\n",
        "\n",
        "> **Further reading**\n",
        ">\n",
        "> Read [our textbook chapter about organizing open reproducible science\n",
        "> projects](https://www.earthdatascience.org/courses/intro-to-earth-data-science/open-reproducible-science/get-started-open-reproducible-science/best-practices-for-organizing-open-reproducible-science/)."
      ]
    },
    {
      "cell_type": "markdown",
      "id": "2ca9ebde-997a-449d-88e0-5455d190408f",
      "metadata": {},
      "source": [
        "> **Human-readable and Machine-readable**\n",
        ">\n",
        "> 1. Create a new Markdown cell below this one using the\n",
        ">     <kbd>ESC</kbd> + <kbd>b</kbd> keyboard shortcut.\n",
        "> 2. In the new cell, answer the following question in a Markdown\n",
        ">     **quote**: Does this Jupyter Notebook file have a machine-readable\n",
        ">     name? Explain your answer."
      ]
    },
    {
      "cell_type": "markdown",
      "id": "894ce6c9",
      "metadata": {},
      "source": [
        "#### Does this Jupyter notebook file have a machine-readable file name?\n",
        "This notebook does not have machine-readable files. The file names are descriptive and human-readable, but they contain spaces, capitalized letters or words and special characters all of which can cause problems for computer systems and programs to properly read."
      ]
    },
    {
      "cell_type": "markdown",
      "id": "09d076a4-e009-495c-a284-bc8760e7ac78",
      "metadata": {},
      "source": [
        "> **Your task: Machine-readable file names**\n",
        ">\n",
        "> Rename any notebooks in this folder with an **expressive and\n",
        "> machine-readable file name**"
      ]
    }
  ],
  "metadata": {
    "kernelspec": {
      "display_name": "Python 3",
      "language": "python",
      "name": "python3"
    },
    "language_info": {
      "codemirror_mode": {
        "name": "ipython",
        "version": 3
      },
      "file_extension": ".py",
      "mimetype": "text/x-python",
      "name": "python",
      "nbconvert_exporter": "python",
      "pygments_lexer": "ipython3",
      "version": "3.10.11"
    }
  },
  "nbformat": 4,
  "nbformat_minor": 5
}
