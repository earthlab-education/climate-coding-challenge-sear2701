{
  "cells": [
    {
      "cell_type": "markdown",
      "id": "de6a4c7c-6c89-4257-bc5e-b5b6a6d5b308",
      "metadata": {},
      "source": [
        "# So, is the climate changing?\n",
        "\n",
        "First things first – make sure to load the climate `DataFrame` you\n",
        "stored in the previous notebooks using Jupyter cell magic:"
      ]
    },
    {
      "cell_type": "code",
      "execution_count": 45,
      "id": "8262b450",
      "metadata": {},
      "outputs": [],
      "source": [
        "# Load all stored variables\n",
        "%store -r\n",
        " "
      ]
    },
    {
      "cell_type": "code",
      "execution_count": 46,
      "id": "023b509e",
      "metadata": {},
      "outputs": [
        {
          "data": {
            "text/html": [
              "<div>\n",
              "<style scoped>\n",
              "    .dataframe tbody tr th:only-of-type {\n",
              "        vertical-align: middle;\n",
              "    }\n",
              "\n",
              "    .dataframe tbody tr th {\n",
              "        vertical-align: top;\n",
              "    }\n",
              "\n",
              "    .dataframe thead th {\n",
              "        text-align: right;\n",
              "    }\n",
              "</style>\n",
              "<table border=\"1\" class=\"dataframe\">\n",
              "  <thead>\n",
              "    <tr style=\"text-align: right;\">\n",
              "      <th></th>\n",
              "      <th>PRCP</th>\n",
              "      <th>TOBS</th>\n",
              "    </tr>\n",
              "    <tr>\n",
              "      <th>DATE</th>\n",
              "      <th></th>\n",
              "      <th></th>\n",
              "    </tr>\n",
              "  </thead>\n",
              "  <tbody>\n",
              "    <tr>\n",
              "      <th>1893-12-31</th>\n",
              "      <td>0.025543</td>\n",
              "      <td>NaN</td>\n",
              "    </tr>\n",
              "    <tr>\n",
              "      <th>1894-12-31</th>\n",
              "      <td>0.058841</td>\n",
              "      <td>NaN</td>\n",
              "    </tr>\n",
              "    <tr>\n",
              "      <th>1895-12-31</th>\n",
              "      <td>0.117090</td>\n",
              "      <td>NaN</td>\n",
              "    </tr>\n",
              "    <tr>\n",
              "      <th>1896-12-31</th>\n",
              "      <td>NaN</td>\n",
              "      <td>NaN</td>\n",
              "    </tr>\n",
              "    <tr>\n",
              "      <th>1897-12-31</th>\n",
              "      <td>0.068922</td>\n",
              "      <td>NaN</td>\n",
              "    </tr>\n",
              "    <tr>\n",
              "      <th>...</th>\n",
              "      <td>...</td>\n",
              "      <td>...</td>\n",
              "    </tr>\n",
              "    <tr>\n",
              "      <th>2019-12-31</th>\n",
              "      <td>0.057644</td>\n",
              "      <td>54.426997</td>\n",
              "    </tr>\n",
              "    <tr>\n",
              "      <th>2020-12-31</th>\n",
              "      <td>0.046721</td>\n",
              "      <td>57.691460</td>\n",
              "    </tr>\n",
              "    <tr>\n",
              "      <th>2021-12-31</th>\n",
              "      <td>0.056658</td>\n",
              "      <td>57.538462</td>\n",
              "    </tr>\n",
              "    <tr>\n",
              "      <th>2022-12-31</th>\n",
              "      <td>0.051479</td>\n",
              "      <td>56.139726</td>\n",
              "    </tr>\n",
              "    <tr>\n",
              "      <th>2023-12-31</th>\n",
              "      <td>0.076740</td>\n",
              "      <td>58.996337</td>\n",
              "    </tr>\n",
              "  </tbody>\n",
              "</table>\n",
              "<p>131 rows × 2 columns</p>\n",
              "</div>"
            ],
            "text/plain": [
              "                PRCP       TOBS\n",
              "DATE                           \n",
              "1893-12-31  0.025543        NaN\n",
              "1894-12-31  0.058841        NaN\n",
              "1895-12-31  0.117090        NaN\n",
              "1896-12-31       NaN        NaN\n",
              "1897-12-31  0.068922        NaN\n",
              "...              ...        ...\n",
              "2019-12-31  0.057644  54.426997\n",
              "2020-12-31  0.046721  57.691460\n",
              "2021-12-31  0.056658  57.538462\n",
              "2022-12-31  0.051479  56.139726\n",
              "2023-12-31  0.076740  58.996337\n",
              "\n",
              "[131 rows x 2 columns]"
            ]
          },
          "execution_count": 46,
          "metadata": {},
          "output_type": "execute_result"
        }
      ],
      "source": [
        "ann_climate_t_df"
      ]
    },
    {
      "cell_type": "markdown",
      "id": "5de5565c-d612-4f51-981b-8e2d80a410e2",
      "metadata": {},
      "source": [
        "## Quantify how fast the climate is changing with a trend line\n",
        "\n",
        "Global climate change causes different effects in different places when\n",
        "we zoom in to a local area. However, you probably noticed when you\n",
        "looked at mean annual temperatures over time that they were rising. We\n",
        "can use a technique called **Linear Ordinary Least Squares (OLS)\n",
        "Regression** to determine how quickly temperatures are rising on\n",
        "average.\n",
        "\n",
        "Before we get started, it’s important to consider that OLS regression is\n",
        "not always the right technique, because it makes some important\n",
        "assumptions about our data:\n",
        "\n",
        "### Random error  \n",
        "Variation in temperature can be caused by many things beyond global\n",
        "climate change. For example, temperatures often vary with patterns of\n",
        "ocean surface temperatures (*teleconnections*), the most famous of which\n",
        "are El Niño and La Niña. By using a linear OLS regression, we’re\n",
        "assuming that all the variation in temperature except for climate change\n",
        "is random. \n",
        "\n",
        "### Normally distributed error\n",
        "If you have taken a statistics class, you probably learned a lot about\n",
        "the normal, or Gaussian distribution. For right now, what you need to\n",
        "know is that OLS regression is useful for identifying trends in average\n",
        "temperature, but wouldn’t be appropriate for looking at trends in daily\n",
        "precipitation (because most days have zero precipitation), or at maximum\n",
        "or minimum annual temperatures (because these are extreme values, and\n",
        "the normal distribution tends to underestimate the likelihood of large\n",
        "events). \n",
        "\n",
        "### Linearity\n",
        "We’re assuming that temperatures are increasing or decreasing at a\n",
        "constant rate over time. We wouldn’t be able to look at rates that\n",
        "change over time. For example, many locations in the Arctic remained the\n",
        "same temperature for much longer than the rest of the world, because ice\n",
        "melt was absorbing all the extra heat. Linear OLS regression wouldn’t be\n",
        "able to identify when the temperature rise began on its own.\n",
        "\n",
        "### Stationarity\n",
        "\n",
        "We’re assuming that variation in temperature caused by things *other*\n",
        "than global climate change (e.g. the random error) behaves the same over\n",
        "time. For example, the linear OLS regression can’t take increased\n",
        "variability from year to year into account, which is a common effect of\n",
        "climate change. We often see “global weirding”, or more extreme head\n",
        "*and* cold, in addition to overall increases. You can observe this most\n",
        "easily by looking at your daily data again. Does it seem to be fanning\n",
        "in or out over time?\n",
        "\n",
        "\n",
        "\n",
        "## YOUR TASK: Is linear OLS regression right for your data?\n",
        "\n",
        "It’s pretty rare to encounter a perfect statistical model where all the\n",
        "assumptions are met, but you want to be on the lookout for serious\n",
        "discrepancies, especially when making predictions. For example,\n",
        "[ignoring assumptions about Gaussian error arguably led to the 2008\n",
        "financial crash](https://www.wired.com/2009/02/wp-quant/).\n",
        "\n",
        "1. Take a look at your data. In the cell below, write a few\n",
        "    sentences about ways your data does and does not meet the linear OLS\n",
        "    regression assumptions."
      ]
    },
    {
      "cell_type": "markdown",
      "id": "46431214",
      "metadata": {},
      "source": [
        "# Does Boulder, CO climate data meet the assumptions needed to use a linear OLS regression?\n",
        "\n",
        "There is some error in the Boulder climate dataset that is not random or attrouted to climate change; longer-term climate fluctuations like ENSO anbd the Atlantic Quadpole Mode can cause non-random variations in annual temperature. The error is likely normally distributed for temperature data, but *not* normally distributed for precipitation data. In temperature latitudes the increase in temperature over time is likely very close to a linear increase. Changes in precipitation over time are more complex and the answer is not as clear. Theoretically, global increases in precipitation over time is proportional to increases in temperature, but there is tremendous variability between locations and regions. Finally, many analyses of climate data assume stationarity of climate data. Climate change is pushing the climate system towards a direction of non-stationarity where variability in many climate parameters is increasing with warming temperatures. Overall, a linear OLS regression would be a good analysis for temperature data, despite some violations of the assumptions, but not a good analysis for precipitation data."
      ]
    },
    {
      "cell_type": "markdown",
      "id": "0cded352",
      "metadata": {},
      "source": []
    },
    {
      "cell_type": "markdown",
      "id": "3937a655",
      "metadata": {},
      "source": [
        "> **Your task:**\n",
        ">\n",
        "> The following cell contains package imports that you will need to\n",
        "> calculate and plot an OLS Linear trend line. Make sure to run the cell\n",
        "> before moving on, and if you have any additional packages you would\n",
        "> like to use, add them here later on."
      ]
    },
    {
      "cell_type": "code",
      "execution_count": 47,
      "id": "209b3e4f",
      "metadata": {},
      "outputs": [],
      "source": [
        "\n",
        "import pandas as pd # import pandas package\n",
        "# Advanced options on matplotlib/seaborn/pandas plots\n",
        "import matplotlib.pyplot as plt\n",
        "# Common statistical plots for tabular data. Statistical data visualization; distribution plots, box and whisker plots\n",
        "import seaborn as sns\n",
        "# Fit an OLS linear regression\n",
        "from sklearn.linear_model import LinearRegression"
      ]
    },
    {
      "cell_type": "markdown",
      "id": "82ee8183-a772-4727-89a8-fcd86832c09a",
      "metadata": {},
      "source": [
        "> **Your task: Regression**\n",
        ">\n",
        "> 1.  To get sample code, ask ChatGPT how to fit a linear model to your\n",
        ">     data. If you’re new to using large language modesl, go ahead and\n",
        ">     check out [our\n",
        ">     query](https://chatgpt.com/share/649b897b-9075-457e-8e12-308f795312a1)\n",
        "> 2.  Copy code that uses the `scikit-learn` package to perform a OLS\n",
        ">     linear regression to the code cell below.\n",
        "> 3.  Check out your previous plot. Does it make sense to include all\n",
        ">     the data when calculating a trend line? Be sure to select out data\n",
        ">     that meets the OLS assumptions.\n",
        "\n",
        "> **Note**\n",
        ">\n",
        "> We know that some computers, networks, and countries block LLM (large\n",
        "> language model) sites, and that LLMs can sometimes perpetuate\n",
        "> oppressive or offensive language and ideas. However, LLMs are\n",
        "> increasingly standard tools for programming – [according to\n",
        "> GitHub](https://github.com/features/copilot) many developers code 55%\n",
        "> faster with LLM assistance. We also see in our classes that LLMs give\n",
        "> students the ability to work on complex real-world problems earlier\n",
        "> on. We feel it’s worth the trade-off, and at this point we would be\n",
        "> doing you a disservice professionally to teach you to code without\n",
        "> LLMs. If you can’t access them, don’t worry – we’ll present a variety\n",
        "> of options for finding example code. For example, you can also search\n",
        "> for an example on a site like\n",
        "> [StackOverflow](https://stackoverflow.com/) (this is how we all\n",
        "> learned to code, and with the right question it’s a fantastic resource\n",
        "> for any coder to get access to up-to-date information from world\n",
        "> experts quickly). You can also use our solutions as a starting point."
      ]
    },
    {
      "cell_type": "code",
      "execution_count": 48,
      "id": "a11eab9c",
      "metadata": {},
      "outputs": [
        {
          "data": {
            "text/plain": [
              "DATE\n",
              "1893-12-31    False\n",
              "1894-12-31    False\n",
              "1895-12-31    False\n",
              "1896-12-31    False\n",
              "1897-12-31    False\n",
              "              ...  \n",
              "2019-12-31     True\n",
              "2020-12-31     True\n",
              "2021-12-31     True\n",
              "2022-12-31     True\n",
              "2023-12-31    False\n",
              "Freq: A-DEC, Name: TOBS, Length: 131, dtype: bool"
            ]
          },
          "execution_count": 48,
          "metadata": {},
          "output_type": "execute_result"
        }
      ],
      "source": [
        "include = climate_df.TOBS.resample('A').count() /365 > .95\n",
        "# There is a problem with getting ann_climate_temp_df_clean variable geting to recognize 'include'. There is a mismatch in dfs. \n",
        "#need to go back to part 3 or 4 and look closely at the different dfs that I created\n",
        "#stopped watching Elsa video at 55 min. As she is about to start plottiing the trendline\n",
        "include"
      ]
    },
    {
      "cell_type": "code",
      "execution_count": 49,
      "id": "80f227a2",
      "metadata": {},
      "outputs": [
        {
          "data": {
            "text/html": [
              "<div>\n",
              "<style scoped>\n",
              "    .dataframe tbody tr th:only-of-type {\n",
              "        vertical-align: middle;\n",
              "    }\n",
              "\n",
              "    .dataframe tbody tr th {\n",
              "        vertical-align: top;\n",
              "    }\n",
              "\n",
              "    .dataframe thead th {\n",
              "        text-align: right;\n",
              "    }\n",
              "</style>\n",
              "<table border=\"1\" class=\"dataframe\">\n",
              "  <thead>\n",
              "    <tr style=\"text-align: right;\">\n",
              "      <th></th>\n",
              "      <th>PRCP</th>\n",
              "      <th>TOBS</th>\n",
              "    </tr>\n",
              "    <tr>\n",
              "      <th>DATE</th>\n",
              "      <th></th>\n",
              "      <th></th>\n",
              "    </tr>\n",
              "  </thead>\n",
              "  <tbody>\n",
              "    <tr>\n",
              "      <th>1950-12-31</th>\n",
              "      <td>0.038795</td>\n",
              "      <td>45.643192</td>\n",
              "    </tr>\n",
              "    <tr>\n",
              "      <th>1951-12-31</th>\n",
              "      <td>0.075096</td>\n",
              "      <td>53.184066</td>\n",
              "    </tr>\n",
              "    <tr>\n",
              "      <th>1952-12-31</th>\n",
              "      <td>0.046858</td>\n",
              "      <td>55.836066</td>\n",
              "    </tr>\n",
              "    <tr>\n",
              "      <th>1953-12-31</th>\n",
              "      <td>0.043863</td>\n",
              "      <td>55.865672</td>\n",
              "    </tr>\n",
              "    <tr>\n",
              "      <th>1954-12-31</th>\n",
              "      <td>0.030138</td>\n",
              "      <td>59.085635</td>\n",
              "    </tr>\n",
              "    <tr>\n",
              "      <th>...</th>\n",
              "      <td>...</td>\n",
              "      <td>...</td>\n",
              "    </tr>\n",
              "    <tr>\n",
              "      <th>2019-12-31</th>\n",
              "      <td>0.057644</td>\n",
              "      <td>54.426997</td>\n",
              "    </tr>\n",
              "    <tr>\n",
              "      <th>2020-12-31</th>\n",
              "      <td>0.046721</td>\n",
              "      <td>57.691460</td>\n",
              "    </tr>\n",
              "    <tr>\n",
              "      <th>2021-12-31</th>\n",
              "      <td>0.056658</td>\n",
              "      <td>57.538462</td>\n",
              "    </tr>\n",
              "    <tr>\n",
              "      <th>2022-12-31</th>\n",
              "      <td>0.051479</td>\n",
              "      <td>56.139726</td>\n",
              "    </tr>\n",
              "    <tr>\n",
              "      <th>2023-12-31</th>\n",
              "      <td>0.076740</td>\n",
              "      <td>58.996337</td>\n",
              "    </tr>\n",
              "  </tbody>\n",
              "</table>\n",
              "<p>74 rows × 2 columns</p>\n",
              "</div>"
            ],
            "text/plain": [
              "                PRCP       TOBS\n",
              "DATE                           \n",
              "1950-12-31  0.038795  45.643192\n",
              "1951-12-31  0.075096  53.184066\n",
              "1952-12-31  0.046858  55.836066\n",
              "1953-12-31  0.043863  55.865672\n",
              "1954-12-31  0.030138  59.085635\n",
              "...              ...        ...\n",
              "2019-12-31  0.057644  54.426997\n",
              "2020-12-31  0.046721  57.691460\n",
              "2021-12-31  0.056658  57.538462\n",
              "2022-12-31  0.051479  56.139726\n",
              "2023-12-31  0.076740  58.996337\n",
              "\n",
              "[74 rows x 2 columns]"
            ]
          },
          "execution_count": 49,
          "metadata": {},
          "output_type": "execute_result"
        }
      ],
      "source": [
        "ann_climate_t_df_1950_2023"
      ]
    },
    {
      "cell_type": "code",
      "execution_count": 50,
      "id": "49650f12",
      "metadata": {},
      "outputs": [],
      "source": [
        "#Alternate way to trim data via Nate Quarder. Create fd w 1950-2023 data\n",
        "#ann_climate_t_df_1950_2023 = ann_climate_t_df['1950':'2023']\n",
        "#ann_climate_t_df_1950_2023.plot(y='TOBS')\n",
        "\n"
      ]
    },
    {
      "cell_type": "code",
      "execution_count": 51,
      "id": "e1279401",
      "metadata": {},
      "outputs": [
        {
          "data": {
            "text/plain": [
              "<Axes: xlabel='DATE'>"
            ]
          },
          "execution_count": 51,
          "metadata": {},
          "output_type": "execute_result"
        },
        {
          "data": {
            "image/png": "[encoded data removed]",
            "text/plain": [
              "<Figure size 640x480 with 1 Axes>"
            ]
          },
          "metadata": {},
          "output_type": "display_data"
        }
      ],
      "source": [
        "\n",
        "## Clean up data. Trim 1893-1950\n",
        "ann_climate_t_df_clean = (\n",
        "    ann_climate_t_df\n",
        "    [include]\n",
        "    .loc['1950':]\n",
        "    .dropna()\n",
        "    )\n",
        "ann_climate_t_df_clean.plot(y='TOBS')"
      ]
    },
    {
      "cell_type": "code",
      "execution_count": 52,
      "id": "6879084e",
      "metadata": {},
      "outputs": [
        {
          "data": {
            "text/plain": [
              "array([1951., 1952., 1954., 1955., 1956., 1957., 1958., 1959., 1960.,\n",
              "       1961., 1962., 1963., 1964., 1965., 1966., 1967., 1968., 1969.,\n",
              "       1970., 1971., 1972., 1973., 1974., 1975., 1976., 1977., 1980.,\n",
              "       1981., 1984., 1985., 1986., 1987., 1988., 1991., 1992., 1995.,\n",
              "       1996., 1997., 1998., 1999., 2000., 2001., 2002., 2003., 2004.,\n",
              "       2005., 2006., 2007., 2008., 2010., 2011., 2012., 2013., 2014.,\n",
              "       2015., 2016., 2018., 2019., 2020., 2021., 2022.])"
            ]
          },
          "execution_count": 52,
          "metadata": {},
          "output_type": "execute_result"
        }
      ],
      "source": [
        "#sets year as the indexed variable. This is needed to be able to use year as the independent variable in regression\n",
        "ann_climate_t_df_clean.index.year.values.astype('float')"
      ]
    },
    {
      "cell_type": "code",
      "execution_count": 53,
      "id": "0f2db93c",
      "metadata": {},
      "outputs": [
        {
          "data": {
            "text/plain": [
              "<Axes: ylabel='Frequency'>"
            ]
          },
          "execution_count": 53,
          "metadata": {},
          "output_type": "execute_result"
        },
        {
          "data": {
            "image/png": "[encoded data removed]",
            "text/plain": [
              "<Figure size 640x480 with 1 Axes>"
            ]
          },
          "metadata": {},
          "output_type": "display_data"
        }
      ],
      "source": [
        "ann_climate_t_df_clean.TOBS.plot.hist()\n",
        "\n"
      ]
    },
    {
      "cell_type": "code",
      "execution_count": 54,
      "id": "d32e1c1f",
      "metadata": {},
      "outputs": [
        {
          "data": {
            "text/html": [
              "<div>\n",
              "<style scoped>\n",
              "    .dataframe tbody tr th:only-of-type {\n",
              "        vertical-align: middle;\n",
              "    }\n",
              "\n",
              "    .dataframe tbody tr th {\n",
              "        vertical-align: top;\n",
              "    }\n",
              "\n",
              "    .dataframe thead th {\n",
              "        text-align: right;\n",
              "    }\n",
              "</style>\n",
              "<table border=\"1\" class=\"dataframe\">\n",
              "  <thead>\n",
              "    <tr style=\"text-align: right;\">\n",
              "      <th></th>\n",
              "      <th>PRCP</th>\n",
              "      <th>TOBS</th>\n",
              "    </tr>\n",
              "    <tr>\n",
              "      <th>DATE</th>\n",
              "      <th></th>\n",
              "      <th></th>\n",
              "    </tr>\n",
              "  </thead>\n",
              "  <tbody>\n",
              "    <tr>\n",
              "      <th>1951-12-31</th>\n",
              "      <td>0.075096</td>\n",
              "      <td>53.184066</td>\n",
              "    </tr>\n",
              "    <tr>\n",
              "      <th>1952-12-31</th>\n",
              "      <td>0.046858</td>\n",
              "      <td>55.836066</td>\n",
              "    </tr>\n",
              "    <tr>\n",
              "      <th>1954-12-31</th>\n",
              "      <td>0.030138</td>\n",
              "      <td>59.085635</td>\n",
              "    </tr>\n",
              "    <tr>\n",
              "      <th>1955-12-31</th>\n",
              "      <td>0.041896</td>\n",
              "      <td>55.802198</td>\n",
              "    </tr>\n",
              "    <tr>\n",
              "      <th>1956-12-31</th>\n",
              "      <td>0.050410</td>\n",
              "      <td>57.568306</td>\n",
              "    </tr>\n",
              "    <tr>\n",
              "      <th>...</th>\n",
              "      <td>...</td>\n",
              "      <td>...</td>\n",
              "    </tr>\n",
              "    <tr>\n",
              "      <th>2018-12-31</th>\n",
              "      <td>0.052740</td>\n",
              "      <td>57.005479</td>\n",
              "    </tr>\n",
              "    <tr>\n",
              "      <th>2019-12-31</th>\n",
              "      <td>0.057644</td>\n",
              "      <td>54.426997</td>\n",
              "    </tr>\n",
              "    <tr>\n",
              "      <th>2020-12-31</th>\n",
              "      <td>0.046721</td>\n",
              "      <td>57.691460</td>\n",
              "    </tr>\n",
              "    <tr>\n",
              "      <th>2021-12-31</th>\n",
              "      <td>0.056658</td>\n",
              "      <td>57.538462</td>\n",
              "    </tr>\n",
              "    <tr>\n",
              "      <th>2022-12-31</th>\n",
              "      <td>0.051479</td>\n",
              "      <td>56.139726</td>\n",
              "    </tr>\n",
              "  </tbody>\n",
              "</table>\n",
              "<p>61 rows × 2 columns</p>\n",
              "</div>"
            ],
            "text/plain": [
              "                PRCP       TOBS\n",
              "DATE                           \n",
              "1951-12-31  0.075096  53.184066\n",
              "1952-12-31  0.046858  55.836066\n",
              "1954-12-31  0.030138  59.085635\n",
              "1955-12-31  0.041896  55.802198\n",
              "1956-12-31  0.050410  57.568306\n",
              "...              ...        ...\n",
              "2018-12-31  0.052740  57.005479\n",
              "2019-12-31  0.057644  54.426997\n",
              "2020-12-31  0.046721  57.691460\n",
              "2021-12-31  0.056658  57.538462\n",
              "2022-12-31  0.051479  56.139726\n",
              "\n",
              "[61 rows x 2 columns]"
            ]
          },
          "execution_count": 54,
          "metadata": {},
          "output_type": "execute_result"
        }
      ],
      "source": [
        "ann_climate_t_df_clean"
      ]
    },
    {
      "cell_type": "code",
      "execution_count": 55,
      "id": "b4a7ba34",
      "metadata": {},
      "outputs": [
        {
          "name": "stdout",
          "output_type": "stream",
          "text": [
            "Slope: 0.015044109343467208\n",
            "Intercept: 26.05797257509627\n"
          ]
        }
      ],
      "source": [
        "#Fit an OLS Linear Regression to the data\n",
        "# Reshape data 2D array for scikit-learn\n",
        "predictor = ann_climate_t_df_clean.index.year.values.reshape(-1,1)\n",
        "observed = ann_climate_t_df_clean['TOBS'].values\n",
        "\n",
        "\n",
        "# # Create and fit the linear regression model\n",
        "model = LinearRegression()\n",
        "model.fit(predictor, observed)\n",
        "\n",
        "# # Get the slope (coefficient) and intercept\n",
        "slope = model.coef_[0]\n",
        "intercept = model.intercept_\n",
        "\n",
        "# # Predict temperatures based on the linear model\n",
        "#predicted_temperatures = model.predict(predictor)\n",
        "\n",
        "print(f\"Slope: {slope}\")\n",
        "print(f\"Intercept: {intercept}\")\n",
        "\n"
      ]
    },
    {
      "cell_type": "code",
      "execution_count": 56,
      "id": "872091bb",
      "metadata": {},
      "outputs": [
        {
          "name": "stdout",
          "output_type": "stream",
          "text": [
            "                            OLS Regression Results                            \n",
            "==============================================================================\n",
            "Dep. Variable:                      y   R-squared:                       0.040\n",
            "Model:                            OLS   Adj. R-squared:                  0.024\n",
            "Method:                 Least Squares   F-statistic:                     2.490\n",
            "Date:                Wed, 02 Oct 2024   Prob (F-statistic):              0.120\n",
            "Time:                        18:05:42   Log-Likelihood:                -114.31\n",
            "No. Observations:                  61   AIC:                             232.6\n",
            "Df Residuals:                      59   BIC:                             236.8\n",
            "Df Model:                           1                                         \n",
            "Covariance Type:            nonrobust                                         \n",
            "==============================================================================\n",
            "                 coef    std err          t      P>|t|      [0.025      0.975]\n",
            "------------------------------------------------------------------------------\n",
            "const         26.0580     18.938      1.376      0.174     -11.838      63.954\n",
            "x1             0.0150      0.010      1.578      0.120      -0.004       0.034\n",
            "==============================================================================\n",
            "Omnibus:                        5.523   Durbin-Watson:                   1.476\n",
            "Prob(Omnibus):                  0.063   Jarque-Bera (JB):                6.196\n",
            "Skew:                          -0.312   Prob(JB):                       0.0451\n",
            "Kurtosis:                       4.431   Cond. No.                     1.83e+05\n",
            "==============================================================================\n",
            "\n",
            "Notes:\n",
            "[1] Standard Errors assume that the covariance matrix of the errors is correctly specified.\n",
            "[2] The condition number is large, 1.83e+05. This might indicate that there are\n",
            "strong multicollinearity or other numerical problems.\n"
          ]
        }
      ],
      "source": [
        "import statsmodels.api as sm\n",
        "\n",
        "#add a constant term to the independent variable (for intercept)\n",
        "predictor = sm.add_constant (predictor)\n",
        "# print model summary\n",
        "model = sm.OLS(observed,predictor).fit()\n",
        "print(model.summary())"
      ]
    },
    {
      "cell_type": "markdown",
      "id": "e95f7f83-54fd-403a-bfba-b99a9b2a3b67",
      "metadata": {},
      "source": [
        "## Plot your trend line\n",
        "\n",
        "Trend lines are often used to help your audience understand and process\n",
        "a time-series plot. In this case, we’ve chosed mean temperature values\n",
        "rather than extremes, so we think OLS is an appropriate model to use to\n",
        "show a trend.\n",
        "\n",
        "> **Is it ok to plot a trend line even if OLS isn’t an appropriate\n",
        "> model?**\n",
        ">\n",
        "> This is a tricky issue. When it comes to a trend line, choosing a\n",
        "> model that is technically more appropriate may require much more\n",
        "> complex code without resulting in a noticeably different trend line.\n",
        ">\n",
        "> We think an OLS trend line is an ok visual tool to indicate the\n",
        "> approximate direction and size of a trend. If you are showing standard\n",
        "> error, making predictions or inferences based on your model, or\n",
        "> calculating probabilities (p-values) based on your model, or making\n",
        "> statements about the statistical significance of a trend, we’d suggest\n",
        "> reconsidering your choice of model.\n",
        "\n",
        "#  Your task: Regression\n",
        "\n",
        "1.  Add values for x (year) and y (temperature) to plot a regression\n",
        "    plot. You will have to select out the year from the index values,\n",
        "    just like you probably did when fitting your linear model above!\n",
        "2.  Label the axes of your plot with the `title`, `xlabel`, and `ylabel`\n",
        "    parameters of `ax.set()`. This function takes your plot and changes the settings. You can see how to add the degree symbol in the example\n",
        "    below. Make sure your labels match what you’re plotting! :::"
      ]
    },
    {
      "cell_type": "code",
      "execution_count": 57,
      "id": "433aba16",
      "metadata": {},
      "outputs": [
        {
          "data": {
            "text/html": [
              "<div>\n",
              "<style scoped>\n",
              "    .dataframe tbody tr th:only-of-type {\n",
              "        vertical-align: middle;\n",
              "    }\n",
              "\n",
              "    .dataframe tbody tr th {\n",
              "        vertical-align: top;\n",
              "    }\n",
              "\n",
              "    .dataframe thead th {\n",
              "        text-align: right;\n",
              "    }\n",
              "</style>\n",
              "<table border=\"1\" class=\"dataframe\">\n",
              "  <thead>\n",
              "    <tr style=\"text-align: right;\">\n",
              "      <th></th>\n",
              "      <th>PRCP</th>\n",
              "      <th>TOBS</th>\n",
              "    </tr>\n",
              "    <tr>\n",
              "      <th>DATE</th>\n",
              "      <th></th>\n",
              "      <th></th>\n",
              "    </tr>\n",
              "  </thead>\n",
              "  <tbody>\n",
              "    <tr>\n",
              "      <th>1951-12-31</th>\n",
              "      <td>0.075096</td>\n",
              "      <td>53.184066</td>\n",
              "    </tr>\n",
              "    <tr>\n",
              "      <th>1952-12-31</th>\n",
              "      <td>0.046858</td>\n",
              "      <td>55.836066</td>\n",
              "    </tr>\n",
              "    <tr>\n",
              "      <th>1954-12-31</th>\n",
              "      <td>0.030138</td>\n",
              "      <td>59.085635</td>\n",
              "    </tr>\n",
              "    <tr>\n",
              "      <th>1955-12-31</th>\n",
              "      <td>0.041896</td>\n",
              "      <td>55.802198</td>\n",
              "    </tr>\n",
              "    <tr>\n",
              "      <th>1956-12-31</th>\n",
              "      <td>0.050410</td>\n",
              "      <td>57.568306</td>\n",
              "    </tr>\n",
              "    <tr>\n",
              "      <th>...</th>\n",
              "      <td>...</td>\n",
              "      <td>...</td>\n",
              "    </tr>\n",
              "    <tr>\n",
              "      <th>2018-12-31</th>\n",
              "      <td>0.052740</td>\n",
              "      <td>57.005479</td>\n",
              "    </tr>\n",
              "    <tr>\n",
              "      <th>2019-12-31</th>\n",
              "      <td>0.057644</td>\n",
              "      <td>54.426997</td>\n",
              "    </tr>\n",
              "    <tr>\n",
              "      <th>2020-12-31</th>\n",
              "      <td>0.046721</td>\n",
              "      <td>57.691460</td>\n",
              "    </tr>\n",
              "    <tr>\n",
              "      <th>2021-12-31</th>\n",
              "      <td>0.056658</td>\n",
              "      <td>57.538462</td>\n",
              "    </tr>\n",
              "    <tr>\n",
              "      <th>2022-12-31</th>\n",
              "      <td>0.051479</td>\n",
              "      <td>56.139726</td>\n",
              "    </tr>\n",
              "  </tbody>\n",
              "</table>\n",
              "<p>61 rows × 2 columns</p>\n",
              "</div>"
            ],
            "text/plain": [
              "                PRCP       TOBS\n",
              "DATE                           \n",
              "1951-12-31  0.075096  53.184066\n",
              "1952-12-31  0.046858  55.836066\n",
              "1954-12-31  0.030138  59.085635\n",
              "1955-12-31  0.041896  55.802198\n",
              "1956-12-31  0.050410  57.568306\n",
              "...              ...        ...\n",
              "2018-12-31  0.052740  57.005479\n",
              "2019-12-31  0.057644  54.426997\n",
              "2020-12-31  0.046721  57.691460\n",
              "2021-12-31  0.056658  57.538462\n",
              "2022-12-31  0.051479  56.139726\n",
              "\n",
              "[61 rows x 2 columns]"
            ]
          },
          "execution_count": 57,
          "metadata": {},
          "output_type": "execute_result"
        }
      ],
      "source": [
        "ann_climate_t_df_clean"
      ]
    },
    {
      "cell_type": "code",
      "execution_count": 58,
      "id": "18c00caa",
      "metadata": {},
      "outputs": [],
      "source": [
        "#import seaborn as sns\n",
        "\n",
        "# Ensure the index is a DatetimeIndex\n",
        "ann_climate_t_df_clean.index = pd.to_datetime(ann_climate_t_df_clean.index)\n",
        "\n",
        "# Create a new column 'year' by extracting the year from the index\n",
        "ann_climate_t_df_clean['year'] = ann_climate_t_df_clean.index.year\n",
        "\n",
        "#Was having trobule running the regression model because year was not defined. \n",
        "# The above code extracts year from the indexed 'date' and creates a new column called 'year'\n",
        "\n"
      ]
    },
    {
      "cell_type": "code",
      "execution_count": 59,
      "id": "acb4c467",
      "metadata": {},
      "outputs": [
        {
          "data": {
            "image/png": "[encoded data removed]",
            "text/plain": [
              "<Figure size 640x480 with 1 Axes>"
            ]
          },
          "metadata": {},
          "output_type": "display_data"
        }
      ],
      "source": [
        "# Plot annual average temperature data with a trend line. sns.regplot is a \n",
        "ax = sns.regplot(\n",
        "    x= ann_climate_t_df_clean.year, \n",
        "    y=ann_climate_t_df_clean.TOBS,\n",
        "    )\n",
        "# Set plot labels\n",
        "ax.set(\n",
        "    title='Boulder, CO Annual Average Temperature',\n",
        "    xlabel='Year',\n",
        "    ylabel='Temperature ($^\\circ$F)'\n",
        ")\n",
        "# Display the plot without extra text\n",
        "plt.show()"
      ]
    },
    {
      "cell_type": "markdown",
      "id": "732f5dae-1317-4081-9378-f755a038fff8",
      "metadata": {},
      "source": [
        "<link rel=\"stylesheet\" type=\"text/css\" href=\"./assets/styles.css\"><div class=\"callout callout-style-default callout-titled callout-task\"><div class=\"callout-header\"><div class=\"callout-icon-container\"><i class=\"callout-icon\"></i></div><div class=\"callout-title-container flex-fill\">Try It: Interpret the trend</div></div><div class=\"callout-body-container callout-body\"><ol type=\"1\">\n",
        "<li><p>Create a new Markdown cell below this one.</p></li>\n",
        "<li><p>Write a plot headline. Your headline should\n",
        "<strong>interpret</strong> your plot, unlike a caption which neutrally\n",
        "describes the image.</p></li>\n",
        "<li><p>Is the climate changing? How much? Report the slope of your trend\n",
        "line.</p></li>\n",
        "</ol></div></div>"
      ]
    },
    {
      "cell_type": "markdown",
      "id": "3cda9745",
      "metadata": {},
      "source": [
        "# Increasing temperatures in Boulder, CO (1950-2023)\n",
        "\n",
        "An analysis of annual temperature data in Boulder, CO shows a non-signficant trend towards increasing temperatures at a rate of 0.15º per decade (F=0.12, r<sup>2</sup>=0.04, \n",
        "slope = 0.015). The trend of increasing temperatures in Boulder is consistent with regional and global temperature increases due to climate change, but the temperature increase in Boulder is smaller than many other locations in Colorado and the West. Climate is warming in Boulder, but at a relatively slow rate. Factors other than climate change are likely causing annual variation in temperature."
      ]
    }
  ],
  "metadata": {
    "kernelspec": {
      "display_name": "Python 3 (ipykernel)",
      "language": "python",
      "name": "python3"
    },
    "language_info": {
      "codemirror_mode": {
        "name": "ipython",
        "version": 3
      },
      "file_extension": ".py",
      "mimetype": "text/x-python",
      "name": "python",
      "nbconvert_exporter": "python",
      "pygments_lexer": "ipython3",
      "version": "3.10.11"
    }
  },
  "nbformat": 4,
  "nbformat_minor": 5
}
