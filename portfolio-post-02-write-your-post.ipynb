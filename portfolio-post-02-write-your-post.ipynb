{
  "cells": [
    {
      "cell_type": "markdown",
      "id": "bac4c77c-5e17-4404-bcf6-9e2f815c570b",
      "metadata": {},
      "source": [
        "# Climate portfolio post\n",
        "\n",
        "Your turn!\n",
        "\n",
        "## Pick a new location and/or measurement to plot\n",
        "🌏 📈\n",
        "\n",
        "Recreate the workflow you just did in a place that interests you OR with\n",
        "a different measurement. You will need to make your own new Markdown and\n",
        "Code cells below this one, or create a new notebook.\n",
        "\n",
        "Your analysis should include:\n",
        "\n",
        "1.  A researched (with citations or links) **site description**,\n",
        "    including *why* you chose the site\n",
        "2.  A researched (with citations or links) **data description**,\n",
        "    including a **data citation**\n",
        "3.  A researched (with citations or links) **methods overview**\n",
        "4.  Some kind of **visual evidence** (plot, chart, diagram) for your\n",
        "    results\n",
        "5.  A **headline and description** for the visual evidence that\n",
        "    *interprets* your analysis and puts it *in context*\n",
        "\n",
        "You should also delete the instructions before submitting a portfolio page.\n",
        "\n",
        "To submit your portfolio post, we're going to do something a little different this week, to see if it is easier:\n",
        "\n",
        " 1. Put it in your portfolio repository, along with any images or interactive html visualization\n",
        " 2. Add a markdown file to the `posts/02-climate` folder that contains a link to your portfolio."
      ]
    }
  ],
  "metadata": {
    "kernelspec": {
      "display_name": "Python 3",
      "language": "python",
      "name": "python3"
    }
  },
  "nbformat": 4,
  "nbformat_minor": 5
}
