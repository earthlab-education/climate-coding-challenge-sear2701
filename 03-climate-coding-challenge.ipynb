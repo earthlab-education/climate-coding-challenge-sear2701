{
  "cells": [
    {
      "cell_type": "markdown",
      "id": "14123610-0665-4dda-9eb9-26fdc54ad0a3",
      "metadata": {},
      "source": [
        "# Part 3: Convert units\n",
        "\n",
        "It’s important to keep track of the units of all your data. You don’t\n",
        "want to be like the [NASA team who crashed a probe into Mars because\n",
        "different teams used different\n",
        "units](https://www.latimes.com/archives/la-xpm-1999-oct-01-mn-17288-story.html))!\n",
        "\n",
        "## Use labels to keep track of units for you and your collaborators\n",
        "\n",
        "One way to keep track of your data’s units is to include the unit in\n",
        "data **labels**. In the case of a `DataFrame`, that usually means the\n",
        "column names.\n",
        "\n",
        "Before we get started, make sure to load the climate `DataFrame` you\n",
        "stored in the previous notebooks using Jupyter cell magic:"
      ]
    },
    {
      "cell_type": "code",
      "execution_count": 1,
      "id": "2975a2ab",
      "metadata": {},
      "outputs": [],
      "source": [
        "# Load all stored variables\n",
        "%store -r"
      ]
    },
    {
      "cell_type": "markdown",
      "id": "5eb9458f-20da-4995-a310-af562f40a366",
      "metadata": {},
      "source": [
        "<link rel=\"stylesheet\" type=\"text/css\" href=\"./assets/styles.css\"><div class=\"callout callout-style-default callout-titled callout-task\"><div class=\"callout-header\"><div class=\"callout-icon-container\"><i class=\"callout-icon\"></i></div><div class=\"callout-title-container flex-fill\">Try It: Add units to your column name</div></div><div class=\"callout-body-container callout-body\"><p>A big part of writing <strong>expressive</strong> code is descriptive\n",
        "labels. Let’s rename the columns of your dataframe to include units.\n",
        "Complete the following steps:</p>\n",
        "<ol type=\"1\">\n",
        "<li>Replace <code>dataframe</code> with the name of\n",
        "<strong>your</strong> <code>DataFrame</code>, and\n",
        "<code>dataframe_units</code> with an expressive new name.</li>\n",
        "<li>Check out the <a\n",
        "href=\"https://www.ncei.noaa.gov/data/global-historical-climatology-network-daily/doc/GHCND_documentation.pdf\">documentation\n",
        "for GCHNd data</a>. We downloaded data with “standard” units; find out\n",
        "what that means for both temperature and precipitation.</li>\n",
        "<li>Replace <code>'TOBS_UNIT'</code> and <code>'PRCP_UNIT'</code> with\n",
        "column names that reference the correct unit for each.</li>\n",
        "</ol></div></div>"
      ]
    },
    {
      "cell_type": "code",
      "execution_count": 2,
      "id": "dc3818c9",
      "metadata": {
        "template": "student"
      },
      "outputs": [],
      "source": [
        "dataframe_units = dataframe.rename(columns={\n",
        "    'TOBS': 'TOBS_UNIT',\n",
        "    'PRCP': 'PRCP_UNIT'\n",
        "})\n",
        "\n",
        "dataframe"
      ]
    },
    {
      "cell_type": "markdown",
      "id": "632509d4-b767-4943-8f0c-539ba04a20c9",
      "metadata": {},
      "source": [
        "## For scientific applications, it is often useful to have values in metric units\n",
        "\n",
        "<link rel=\"stylesheet\" type=\"text/css\" href=\"./assets/styles.css\"><div class=\"callout callout-style-default callout-titled callout-task\"><div class=\"callout-header\"><div class=\"callout-icon-container\"><i class=\"callout-icon\"></i></div><div class=\"callout-title-container flex-fill\">Try It: Convert units</div></div><div class=\"callout-body-container callout-body\"><p>The code below attempts to convert the data to Celcius, using Python\n",
        "mathematical <strong>operators</strong>, like <code>+</code>,\n",
        "<code>-</code>, <code>*</code>, and <code>/</code>. Mathematical\n",
        "operators in Python work just like a calculator, and that includes using\n",
        "parentheses to designat the <strong>order of operations</strong>. The\n",
        "equation for converting Fahrenheit temperature to Celcius is:\n",
        "\n",
        "$$\n",
        "T_C = (T_F - 32) * \\frac{5}{9}\n",
        "$$\n",
        "\n",
        "<p>This code is not well documented and doesn’t follow <a\n",
        "href=\"https://peps.python.org/pep-0008/#other-recommendations\">PEP-8\n",
        "guidelines</a>, which has caused the author to miss an <strong>important\n",
        "error</strong>!</p>\n",
        "<p>Complete the following steps:</p>\n",
        "<ol type=\"1\">\n",
        "<li>Replace <code>dataframe</code> with the name of\n",
        "<strong>your</strong> <code>DataFrame</code>.</li>\n",
        "<li>Replace <code>'old_temperature'</code> with the column name\n",
        "<strong>you</strong> used; Replace <code>'new_temperature'</code> with\n",
        "an <strong>expressive</strong> column name.</li>\n",
        "<li><strong>THERE IS AN ERROR IN THE CONVERSION MATH - Fix\n",
        "it!</strong></li>\n",
        "</ol></div></div>"
      ]
    },
    {
      "cell_type": "code",
      "execution_count": 4,
      "id": "2b17a485",
      "metadata": {
        "template": "student"
      },
      "outputs": [],
      "source": [
        "dataframe_units['new_temperature']= dataframe_units['old_temperature']-32*5/9\n",
        "dataframe_units"
      ]
    },
    {
      "cell_type": "markdown",
      "id": "7efe3c8d-a178-44c1-9ece-ce9202350b32",
      "metadata": {},
      "source": [
        "<link rel=\"stylesheet\" type=\"text/css\" href=\"./assets/styles.css\"><div class=\"callout callout-style-default callout-titled callout-extra\"><div class=\"callout-header\"><div class=\"callout-icon-container\"><i class=\"callout-icon\"></i></div><div class=\"callout-title-container flex-fill\">Looking for an Extra Challenge?</div></div><div class=\"callout-body-container callout-body\"><p>Using the code below as a framework, write and apply a\n",
        "<strong>function</strong> that converts to Celcius. You should also\n",
        "rewrite this function name to be more expressive.</p>\n",
        "<div class=\"sourceCode\" id=\"cb1\"><pre\n",
        "class=\"sourceCode python\"><code class=\"sourceCode python\"><span id=\"cb1-1\"><a href=\"#cb1-1\" aria-hidden=\"true\" tabindex=\"-1\"></a><span class=\"kw\">def</span> convert(temperature):</span>\n",
        "<span id=\"cb1-2\"><a href=\"#cb1-2\" aria-hidden=\"true\" tabindex=\"-1\"></a>    <span class=\"co\">&quot;&quot;&quot;Convert temperature to Celcius&quot;&quot;&quot;</span></span>\n",
        "<span id=\"cb1-3\"><a href=\"#cb1-3\" aria-hidden=\"true\" tabindex=\"-1\"></a>    <span class=\"cf\">return</span> temperature <span class=\"co\"># Put your equation in here</span></span>\n",
        "<span id=\"cb1-4\"><a href=\"#cb1-4\" aria-hidden=\"true\" tabindex=\"-1\"></a></span>\n",
        "<span id=\"cb1-5\"><a href=\"#cb1-5\" aria-hidden=\"true\" tabindex=\"-1\"></a>dataframe[<span class=\"st\">&#39;TOBS_C&#39;</span>] <span class=\"op\">=</span> dataframe[<span class=\"st\">&#39;TOBS&#39;</span>].<span class=\"bu\">apply</span>(convert)</span></code></pre></div></div></div>"
      ]
    }
  ],
  "metadata": {
    "kernelspec": {
      "display_name": "Python 3 (ipykernel)",
      "language": "python",
      "name": "python3"
    },
    "language_info": {
      "codemirror_mode": {
        "name": "ipython",
        "version": "3"
      },
      "file_extension": ".py",
      "mimetype": "text/x-python",
      "name": "python",
      "nbconvert_exporter": "python",
      "pygments_lexer": "ipython3",
      "version": "3.10.14"
    }
  },
  "nbformat": 4,
  "nbformat_minor": 5
}
