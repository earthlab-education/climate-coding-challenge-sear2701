{
  "cells": [
    {
      "cell_type": "markdown",
      "metadata": {},
      "source": [
        "# Part 4: Plot your results\n",
        "\n",
        "First things first – make sure to load the climate `DataFrame` you\n",
        "stored in the previous notebooks using Jupyter cell magic:"
      ],
      "id": "5dedcedb-5dc1-4e4c-8b2a-c4b727a1b6ba"
    },
    {
      "cell_type": "code",
      "execution_count": 1,
      "metadata": {},
      "outputs": [],
      "source": [
        "# Load all stored variables\n",
        "%store -r"
      ],
      "id": "575469b7"
    },
    {
      "cell_type": "markdown",
      "metadata": {},
      "source": [
        "You’ll also need some libraries later on. This is an extension to\n",
        "`pandas` that will allow you to easily make beautiful, interactive\n",
        "plots, and a related library that will let you save your plots:"
      ],
      "id": "2bdb9714-d2a9-4128-a174-a0ef7409b7fb"
    },
    {
      "cell_type": "code",
      "execution_count": 2,
      "metadata": {},
      "outputs": [],
      "source": [
        "import holoviews as hv\n",
        "import hvplot.pandas"
      ],
      "id": "c09c8e24"
    },
    {
      "cell_type": "markdown",
      "metadata": {},
      "source": [
        "## Plot the precpitation column (PRCP) vs time to explore the data\n",
        "\n",
        "Plotting in Python is easy, but not quite this easy:"
      ],
      "id": "ef932c0f-a3a8-4481-94bf-21c2e609566a"
    },
    {
      "cell_type": "code",
      "execution_count": 3,
      "metadata": {
        "template": "student"
      },
      "outputs": [],
      "source": [
        "climate_df.plot()"
      ],
      "id": "b4227691"
    },
    {
      "cell_type": "markdown",
      "metadata": {},
      "source": [
        "Looks like we have *both* precipitation and temperature on the same\n",
        "plot, and it’s hard to see what it is because it’s missing labels!\n",
        "\n",
        "> ****Label your plot****\n",
        ">\n",
        "> <figure>\n",
        "> <img src=\"https://imgs.xkcd.com/comics/convincing.png\"\n",
        "> alt=\"Source: https://xkcd.com/833\" />\n",
        "> <figcaption aria-hidden=\"true\">Source: https://xkcd.com/833</figcaption>\n",
        "> </figure>\n",
        ">\n",
        "> Make sure each plot has:\n",
        ">\n",
        "> -   A title that explains where and when the data are from\n",
        "> -   x- and y- axis labels with **units** where appropriate\n",
        "> -   A legend where appropriate\n",
        "\n",
        "When plotting in Python, you’ll always need to add some instructions on\n",
        "labels and how you want your plot to look.\n",
        "\n",
        "<link rel=\"stylesheet\" type=\"text/css\" href=\"./assets/styles.css\"><div class=\"callout callout-style-default callout-titled callout-task\"><div class=\"callout-header\"><div class=\"callout-icon-container\"><i class=\"callout-icon\"></i></div><div class=\"callout-title-container flex-fill\">Try It: Plot your data</div></div><div class=\"callout-body-container callout-body\"><ol type=\"1\">\n",
        "<li>Change <code>dataframe</code> to <strong>your</strong>\n",
        "<code>DataFrame</code> name.</li>\n",
        "<li>Change <code>y=</code> to the name of your <strong>observed\n",
        "temperature</strong> column name.</li>\n",
        "<li>Use the <code>title</code>, <code>ylabel</code>, and\n",
        "<code>xlabel</code> parameters to add key text to your plot.</li>\n",
        "<li>Adjust the size of your figure using <code>figsize=(x,y)</code>\n",
        "where <code>x</code> is figure width and <code>y</code> is figure\n",
        "height</li>\n",
        "</ol>\n",
        "<blockquote>\n",
        "<p><strong>HINT:</strong> labels have to be a <em>type</em> in Python\n",
        "called a <strong>string</strong>. You can make a string by putting\n",
        "quotes around your label, just like the column names in the sample code\n",
        "(eg <code>y='TOBS'</code>).</p>\n",
        "</blockquote></div></div>"
      ],
      "id": "f1cc5ab6-60d6-4289-ba80-44eeca351a76"
    },
    {
      "cell_type": "code",
      "execution_count": 4,
      "metadata": {
        "template": "student"
      },
      "outputs": [],
      "source": [
        "# Plot the data using .plot\n",
        "climate_df.plot(\n",
        "    y='the_precipitation_column',\n",
        "    title='Title Goes Here',\n",
        "    xlabel='Horizontal Axis Label Goes Here',\n",
        "    ylabel='Vertical Axis Label Goes Here')"
      ],
      "id": "a1378b6d"
    },
    {
      "cell_type": "markdown",
      "metadata": {},
      "source": [
        "<link rel=\"stylesheet\" type=\"text/css\" href=\"./assets/styles.css\"><div class=\"callout callout-style-default callout-titled callout-extra\"><div class=\"callout-header\"><div class=\"callout-icon-container\"><i class=\"callout-icon\"></i></div><div class=\"callout-title-container flex-fill\">Looking for an Extra Challenge?</div></div><div class=\"callout-body-container callout-body\"><p>There are many other things you can do to customize your plot. Take a\n",
        "look at the <a\n",
        "href=\"https://pandas.pydata.org/docs/user_guide/visualization.html\">pandas\n",
        "plotting galleries</a> and the <a\n",
        "href=\"https://pandas.pydata.org/docs/reference/api/pandas.DataFrame.plot.html\">documentation\n",
        "of plot</a> to see if there’s other changes you want to make to your\n",
        "plot. Some possibilities include:</p>\n",
        "<ul>\n",
        "<li>Remove the legend since there’s only one data series</li>\n",
        "<li>Increase the figure size</li>\n",
        "<li>Increase the font size</li>\n",
        "<li>Change the colors</li>\n",
        "<li>Use a bar graph instead (usually we use lines for time series, but\n",
        "since this is annual it could go either way)</li>\n",
        "<li>Add a trend line</li>\n",
        "</ul>\n",
        "<p>Not sure how to do any of these? Try searching the internet, or\n",
        "asking an AI!</p></div></div>\n",
        "\n",
        "## Clean up time series plots by resampling\n",
        "\n",
        "You may notice that your plot looks a little “fuzzy”. This happens when\n",
        "Python is trying to plot a value for every date, but the resolution of\n",
        "the image is too low to actually do that. You can address this issue by\n",
        "**resampling** the data, or summarizing it over a time period of your\n",
        "choice. In this case, we will resample annually, giving us one data\n",
        "point per year.\n",
        "\n",
        "<link rel=\"stylesheet\" type=\"text/css\" href=\"./assets/styles.css\"><div class=\"callout callout-style-default callout-titled callout-task\"><div class=\"callout-header\"><div class=\"callout-icon-container\"><i class=\"callout-icon\"></i></div><div class=\"callout-title-container flex-fill\">Try It: Resample</div></div><div class=\"callout-body-container callout-body\"><ol type=\"1\">\n",
        "<li>Set the frequency of your final data by replacing\n",
        "<code>DT_OFFSET</code>with a <strong>Datetime Offset Code</strong>.\n",
        "Check out the table in the <a\n",
        "href=\"https://pandas.pydata.org/pandas-docs/stable/user_guide/timeseries.html#dateoffset-objects\">pandas\n",
        "datetime documentation</a> to find the one you want (we recommend the\n",
        "start of the year).</li>\n",
        "<li>Choose how to summarize each year of data by replacing\n",
        "<code>agg_method_here</code> with a method that will calculate the\n",
        "<strong>average annual value</strong>. Check out the <a\n",
        "href=\"https://pandas.pydata.org/pandas-docs/stable/user_guide/timeseries.html#basics\">pandas\n",
        "resampling documentation</a> for a list of common built-in options.</li>\n",
        "</ol></div></div>"
      ],
      "id": "06764365-a1f5-40a7-8034-f04bc4ec77de"
    },
    {
      "cell_type": "code",
      "execution_count": 6,
      "metadata": {
        "template": "student"
      },
      "outputs": [],
      "source": [
        "ann_climate_df = climate_df.resample('DT_OFFSET').agg_method_here()\n",
        "ann_climate_df"
      ],
      "id": "8f52fbc4"
    },
    {
      "cell_type": "markdown",
      "metadata": {},
      "source": [
        "<link rel=\"stylesheet\" type=\"text/css\" href=\"./assets/styles.css\"><div class=\"callout callout-style-default callout-titled callout-task\"><div class=\"callout-header\"><div class=\"callout-icon-container\"><i class=\"callout-icon\"></i></div><div class=\"callout-title-container flex-fill\">Try It: Plot Annual Data</div></div><div class=\"callout-body-container callout-body\"><ol type=\"1\">\n",
        "<li>Try plotting your new DataFrame in the cell below. Can you see what\n",
        "is going on more clearly now? Don’t forget to adjust your labels!</li>\n",
        "</ol></div></div>"
      ],
      "id": "12bf0d69-8bfd-48f5-b76f-7827504ed784"
    },
    {
      "cell_type": "code",
      "execution_count": 8,
      "metadata": {
        "template": "student"
      },
      "outputs": [],
      "source": [
        "# Plot the annual data"
      ],
      "id": "22a823d6"
    },
    {
      "cell_type": "markdown",
      "metadata": {},
      "source": [
        "<link rel=\"stylesheet\" type=\"text/css\" href=\"./assets/styles.css\"><div class=\"callout callout-style-default callout-titled callout-respond\"><div class=\"callout-header\"><div class=\"callout-icon-container\"><i class=\"callout-icon\"></i></div><div class=\"callout-title-container flex-fill\">Reflect and Respond: Interpret your plot</div></div><div class=\"callout-body-container callout-body\"><ol type=\"1\">\n",
        "<li><p>Create a new Markdown cell below this one.</p></li>\n",
        "<li><p>In the new cell, answer the following questions using a\n",
        "<strong>bulleted list</strong> in Markdown – what are 2 things you\n",
        "notice about this data? What physical phenomena or data anomaly could be\n",
        "causing each one?</p></li>\n",
        "</ol>\n",
        "<div data-__quarto_custom=\"true\"\n",
        "data-__quarto_custom_type=\"ConditionalBlock\"\n",
        "data-__quarto_custom_context=\"Block\" data-__quarto_custom_id=\"6\">\n",
        "<div data-__quarto_custom_scaffold=\"true\">\n",
        "<div>\n",
        "\n",
        "</div>\n",
        "</div>\n",
        "</div></div></div>"
      ],
      "id": "9da60a12-6ece-4043-8870-5a3d0388c494"
    },
    {
      "cell_type": "markdown",
      "metadata": {},
      "source": [
        "## Check specific values with an interactive plot\n",
        "\n",
        "You can use the `.hvplot()` method with similar arguments to create an\n",
        "interactive plot.\n",
        "\n",
        "<link rel=\"stylesheet\" type=\"text/css\" href=\"./assets/styles.css\"><div class=\"callout callout-style-default callout-titled callout-task\"><div class=\"callout-header\"><div class=\"callout-icon-container\"><i class=\"callout-icon\"></i></div><div class=\"callout-title-container flex-fill\">Try It: Interactive Plot</div></div><div class=\"callout-body-container callout-body\"><ol type=\"1\">\n",
        "<li>Copy your plotting code into the cell below.</li>\n",
        "<li>Replace <code>.plot</code> in your code with\n",
        "<code>.hvplot</code></li>\n",
        "</ol>\n",
        "<p>Now, you should be able to hover over data points and see their\n",
        "values!</p></div></div>"
      ],
      "id": "de00a236-e176-4362-88c0-a2e8de9f8517"
    },
    {
      "cell_type": "code",
      "execution_count": 10,
      "metadata": {
        "template": "student"
      },
      "outputs": [],
      "source": [
        "# Plot the annual data interactively"
      ],
      "id": "4bff67b5"
    },
    {
      "cell_type": "markdown",
      "metadata": {},
      "source": [
        "<link rel=\"stylesheet\" type=\"text/css\" href=\"./assets/styles.css\"><div class=\"callout callout-style-default callout-titled callout-task\"><div class=\"callout-header\"><div class=\"callout-icon-container\"><i class=\"callout-icon\"></i></div><div class=\"callout-title-container flex-fill\">Try It: Explore the data</div></div><div class=\"callout-body-container callout-body\"><ol type=\"1\">\n",
        "<li><p>Create a new Markdown cell below this one.</p></li>\n",
        "<li><p>Hover over the lowest point on your plot. What is the overall\n",
        "minimum annual average temperature?</p></li>\n",
        "</ol></div></div>"
      ],
      "id": "fdc24928-65f1-4176-b8f9-eacca630730f"
    },
    {
      "cell_type": "markdown",
      "metadata": {},
      "source": [
        "## BONUS: Save your work\n",
        "\n",
        "You will need to save your analyses and plots to tell others about what\n",
        "you find.\n",
        "\n",
        "<link rel=\"stylesheet\" type=\"text/css\" href=\"./assets/styles.css\"><div class=\"callout callout-style-default callout-titled callout-task\"><div class=\"callout-header\"><div class=\"callout-icon-container\"><i class=\"callout-icon\"></i></div><div class=\"callout-title-container flex-fill\">Try It: Save Your Plot</div></div><div class=\"callout-body-container callout-body\"><p>Just like with any other type of object in Python, if you want to\n",
        "reuse your work, you need to give it a name.</p>\n",
        "<ol type=\"1\">\n",
        "<li>Go back to your <code>hvplot</code> code, and give your plot a name\n",
        "by assigning it to a variable. HINT: if you still want your plot to\n",
        "display in your notebook, make sure to <strong>call</strong> its name at\n",
        "the end of the cell.</li>\n",
        "<li>Replace <code>my_plot</code> with the name you gave to your\n",
        "plot.</li>\n",
        "<li>Replace <code>'my_plot.html'</code> with the name you want for your\n",
        "plot. If you change the file extension, <code>.html</code>, to\n",
        "<code>.png</code>, you will get an image instead of an interactive\n",
        "webpage, provided you have the necessary libraries installed.</li>\n",
        "</ol>\n",
        "<p>Once you run the code, you should see your saved plot in your files –\n",
        "go ahead and open it up.</p>\n",
        "<div data-__quarto_custom=\"true\" data-__quarto_custom_type=\"Callout\"\n",
        "data-__quarto_custom_context=\"Block\" data-__quarto_custom_id=\"8\">\n",
        "<div data-__quarto_custom_scaffold=\"true\">\n",
        "\n",
        "</div>\n",
        "<div data-__quarto_custom_scaffold=\"true\">\n",
        "<p>You may need to right-click on your file and download it to be able\n",
        "to view it.</p>\n",
        "</div>\n",
        "</div></div></div>"
      ],
      "id": "42513d90-2d8a-4c42-a1bc-a66194d8951e"
    },
    {
      "cell_type": "code",
      "execution_count": 12,
      "metadata": {
        "template": "student"
      },
      "outputs": [],
      "source": [
        "hv.save(my_plot, 'my_plot.html')"
      ],
      "id": "3ca1b32d"
    },
    {
      "cell_type": "code",
      "execution_count": 14,
      "metadata": {},
      "outputs": [],
      "source": [
        "%store ann_climate_df"
      ],
      "id": "12175da4"
    }
  ],
  "nbformat": 4,
  "nbformat_minor": 5,
  "metadata": {
    "kernelspec": {
      "name": "python3",
      "display_name": "Python 3 (ipykernel)",
      "language": "python"
    },
    "language_info": {
      "name": "python",
      "codemirror_mode": {
        "name": "ipython",
        "version": "3"
      },
      "file_extension": ".py",
      "mimetype": "text/x-python",
      "nbconvert_exporter": "python",
      "pygments_lexer": "ipython3",
      "version": "3.10.14"
    }
  }
}